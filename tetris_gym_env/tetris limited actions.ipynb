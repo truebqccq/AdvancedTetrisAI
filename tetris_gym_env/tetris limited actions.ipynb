{
 "cells": [
  {
   "cell_type": "markdown",
   "metadata": {},
   "source": [
    "### TODO: ###\n",
    "- Implement additional bonus score features:\n",
    "    - Combos\n",
    "- Select NN type"
   ]
  },
  {
   "cell_type": "code",
   "execution_count": 1,
   "metadata": {},
   "outputs": [],
   "source": [
    "import numpy as np\n",
    "\n",
    "from collections import deque\n",
    "\n",
    "import matplotlib.pyplot as plt\n",
    "%matplotlib inline\n",
    "\n",
    "# PyTorch\n",
    "import torch\n",
    "import torch.nn as nn\n",
    "import torch.nn.functional as F\n",
    "import torch.optim as optim\n",
    "from torch.distributions import Categorical\n",
    "\n",
    "# Gym\n",
    "import gym\n",
    "# import gym_pygame\n",
    "\n",
    "# Hugging Face Hub\n",
    "# from huggingface_hub import notebook_login # To log to our Hugging Face account to be able to upload models to the Hub.\n",
    "import imageio"
   ]
  },
  {
   "cell_type": "code",
   "execution_count": 2,
   "metadata": {},
   "outputs": [
    {
     "name": "stdout",
     "output_type": "stream",
     "text": [
      "Build Tetris v2.0\n",
      "Build Tetris v2.0\n"
     ]
    },
    {
     "name": "stderr",
     "output_type": "stream",
     "text": [
      "/home/ai/.local/lib/python3.10/site-packages/gym/utils/passive_env_checker.py:20: UserWarning: \u001b[33mWARN: It seems a Box observation space is an image but the `dtype` is not `np.uint8`, actual type: float32. If the Box observation space is not an image, we recommend flattening the observation to have only a 1D vector.\u001b[0m\n",
      "  logger.warn(\n",
      "/home/ai/.local/lib/python3.10/site-packages/gym/utils/passive_env_checker.py:25: UserWarning: \u001b[33mWARN: It seems a Box observation space is an image but the upper and lower bounds are not in [0, 255]. Generally, CNN policies assume observations are within that range, so you may encounter an issue if the observation values are not.\u001b[0m\n",
      "  logger.warn(\n"
     ]
    }
   ],
   "source": [
    "env_id = \"gym_tetris:tetris_rl\"\n",
    "env = gym.make(env_id, render_mode='rgb_array')\n",
    "eval_env = gym.make(env_id, render_mode='rgb_array')\n",
    "s_size = env.observation_space.shape\n",
    "a_size = env.action_space.n"
   ]
  },
  {
   "cell_type": "code",
   "execution_count": 3,
   "metadata": {},
   "outputs": [
    {
     "name": "stdout",
     "output_type": "stream",
     "text": [
      "cpu\n"
     ]
    }
   ],
   "source": [
    "device = torch.device(\"cuda:0\" if torch.cuda.is_available() else \"cpu\")\n",
    "print(device)"
   ]
  },
  {
   "cell_type": "code",
   "execution_count": 4,
   "metadata": {},
   "outputs": [
    {
     "name": "stdout",
     "output_type": "stream",
     "text": [
      "_____OBSERVATION SPACE_____ \n",
      "\n",
      "The State Space is:  (1, 29, 10)\n",
      "Sample observation [[[1.8838122  0.3368166  0.23775007 1.1401601  0.07139578 0.21562415\n",
      "   0.70985323 1.5669928  1.6702328  1.4070476 ]\n",
      "  [0.18298328 1.9354589  0.7150694  0.16674285 0.4214802  1.006172\n",
      "   1.2314676  1.9859385  0.116258   1.9199809 ]\n",
      "  [0.5653377  1.700408   1.0475376  1.6624149  1.7808305  0.53033465\n",
      "   1.9268116  1.2053494  0.02849891 1.2542238 ]\n",
      "  [0.203259   0.5381805  0.05698065 0.07109636 0.12535489 1.7106745\n",
      "   0.3266413  1.9480813  1.8138226  1.3060173 ]\n",
      "  [0.7945536  1.7658701  0.53502065 0.69831926 1.6456327  0.853044\n",
      "   0.20802194 0.87167984 1.3347003  0.12979017]\n",
      "  [0.79539317 1.8930495  1.7614119  0.5555184  1.1749563  1.9246175\n",
      "   0.5010457  1.2896558  0.23961505 0.14634973]\n",
      "  [1.2237433  1.3310208  0.89283496 0.24282598 1.6265843  1.5699567\n",
      "   0.5153803  1.0748605  1.1913813  0.57609236]\n",
      "  [0.10758841 1.2788323  0.26941827 0.07232651 0.70261765 0.25605324\n",
      "   0.17553258 1.467439   1.4935322  0.6724563 ]\n",
      "  [1.6925143  1.1483871  0.22214079 1.2554648  0.39706203 0.6718999\n",
      "   1.1574863  0.35076556 0.81653804 1.0676174 ]\n",
      "  [1.6617166  1.718594   0.10963792 0.7902794  0.7690376  1.7093033\n",
      "   1.9514328  1.4038451  0.18738765 1.8195941 ]\n",
      "  [1.5872849  0.6912257  1.5765158  1.9774376  1.3358514  1.9152235\n",
      "   1.8008759  1.2728024  0.41507638 0.12645037]\n",
      "  [1.101928   0.51543057 1.6530013  1.9309087  1.0388613  1.8749311\n",
      "   1.3025151  1.8577098  1.8232156  0.9014073 ]\n",
      "  [1.14125    0.49958426 0.8201123  0.12975398 0.24858198 1.9036453\n",
      "   1.6969876  1.6699877  1.2136555  0.7159411 ]\n",
      "  [1.9263419  1.1706667  0.26139    1.6372178  0.4221414  1.1607039\n",
      "   1.1054578  0.7575089  1.532545   1.3057457 ]\n",
      "  [0.77467173 0.3215315  1.4299482  0.44664612 1.8537971  1.4486377\n",
      "   1.3513058  1.8115093  0.34249356 1.4477515 ]\n",
      "  [1.0103406  1.1274663  1.5150294  1.1826452  0.25231406 0.99631685\n",
      "   1.8916634  0.19894819 1.1970038  1.2483183 ]\n",
      "  [0.45743734 0.61735034 0.06486829 0.6109669  1.6442357  0.11609641\n",
      "   1.1521006  1.2984285  1.1589876  1.1297765 ]\n",
      "  [0.47399512 0.32617176 1.7119224  0.38930377 1.8432096  0.13796708\n",
      "   0.8734449  1.2518517  1.7961749  0.57310396]\n",
      "  [1.0358016  1.7942916  1.8461769  0.8014325  1.8435135  1.0042617\n",
      "   0.44463727 1.0690464  1.1442161  1.7237997 ]\n",
      "  [0.24340735 0.21491377 1.1859403  0.10580151 1.4929756  1.6288286\n",
      "   1.995375   1.8646406  0.781572   0.12667476]\n",
      "  [1.159933   1.9376051  0.61328477 1.2054386  0.82422113 1.7957672\n",
      "   0.6854568  1.9009079  0.6253383  1.0806355 ]\n",
      "  [0.8291089  0.07107205 1.4531739  1.5042807  1.9482688  1.7368562\n",
      "   0.41535598 0.96901256 1.386377   1.7197652 ]\n",
      "  [1.221964   0.4370996  1.2500845  1.7135247  1.334418   1.0039543\n",
      "   0.8644676  1.8360046  1.8944274  1.0067793 ]\n",
      "  [1.6667501  1.4540436  1.1232495  0.10202105 1.2556926  0.99466383\n",
      "   1.4502623  0.6448573  0.6344775  0.2661078 ]\n",
      "  [0.7143793  1.199267   0.49626058 1.240506   0.17040162 1.084242\n",
      "   0.19043297 0.29367962 0.9410404  1.6687133 ]\n",
      "  [0.32112664 1.9352598  1.6657659  0.00981483 0.61899954 0.44783878\n",
      "   0.4717981  1.9653769  1.306942   0.30752426]\n",
      "  [0.23948441 1.8096683  1.8526208  1.4551402  0.81826586 0.20209956\n",
      "   1.2186155  1.9301504  0.5840508  1.290472  ]\n",
      "  [0.30860507 1.4135888  0.05931501 1.4011704  0.79092693 0.71057886\n",
      "   0.9988547  1.41365    1.3239402  1.153619  ]\n",
      "  [0.5800593  0.56094736 1.4749643  0.19229019 1.4579556  1.0721992\n",
      "   1.624427   0.876131   0.5638877  0.5391935 ]]]\n",
      "\n",
      " _____ACTION SPACE_____ \n",
      "\n",
      "The Action Space is:  7\n",
      "Action Space Sample 6\n",
      "(1, 29, 10)\n"
     ]
    }
   ],
   "source": [
    "print(\"_____OBSERVATION SPACE_____ \\n\")\n",
    "print(\"The State Space is: \", s_size)\n",
    "print(\"Sample observation\", env.observation_space.sample()) # Get a random observation\n",
    "\n",
    "print(\"\\n _____ACTION SPACE_____ \\n\")\n",
    "print(\"The Action Space is: \", a_size)\n",
    "print(\"Action Space Sample\", env.action_space.sample()) # Take a random action\n",
    "\n",
    "print(env.observation_space.shape)"
   ]
  },
  {
   "cell_type": "code",
   "execution_count": 5,
   "metadata": {},
   "outputs": [],
   "source": [
    "class Policy(nn.Module):\n",
    "    def __init__(self, s_size, a_size, h_size, h2_size):\n",
    "        super(Policy, self).__init__()\n",
    "\n",
    "        # Convolutional Network\n",
    "        # self.conv = nn.Sequential(nn.Conv2d(s_size[0], h_size, 4), nn.ReLU(),\n",
    "        #     nn.Conv2d(h_size, h_size, kernel_size=3, stride=1),nn.ReLU())\n",
    "        # # print(self.conv(torch.zeros(1,*s_size,4)).size())\n",
    "        # self.fc = nn.Sequential(\n",
    "        #     nn.Linear(int(np.prod(self.conv(torch.zeros(1,*s_size)).size())), h2_size),\n",
    "        #     nn.ReLU(),\n",
    "        #     nn.Linear(h2_size, a_size)\n",
    "        # )\n",
    "\n",
    "        # Linear Network\n",
    "        self.fc1 = nn.Linear(np.prod(s_size), h_size)\n",
    "        self.fc2 = nn.Linear(h_size, h_size)\n",
    "        self.fc3 = nn.Linear(h_size, a_size)\n",
    "\n",
    "        \n",
    "\n",
    "    def forward(self, x):\n",
    "        # Convlutional Network\n",
    "        # x = self.conv(x).view(x.size()[0], -1)\n",
    "        # x = self.fc(x)\n",
    "\n",
    "        # Linear Network\n",
    "        # x = np.reshape(x,(1,-1))\n",
    "        x = np.reshape(x.swapaxes(1,2),(1,-1))\n",
    "        x = torch.relu(self.fc1(x))\n",
    "        x = torch.relu(self.fc2(x))\n",
    "        x = self.fc3(x)\n",
    "\n",
    "        # print(np.shape(x))\n",
    "        # We output the softmax\n",
    "        return F.softmax(x, dim=1)\n",
    "\n",
    "    def act(self, state):\n",
    "        state = torch.from_numpy(state).float().unsqueeze(0).to(device)\n",
    "        probs = self.forward(state).cpu()\n",
    "        m = Categorical(probs)\n",
    "        action = m.sample()\n",
    "        return action.item(), m.log_prob(action)"
   ]
  },
  {
   "cell_type": "code",
   "execution_count": 6,
   "metadata": {},
   "outputs": [],
   "source": [
    "def reinforce(policy, optimizer, n_training_episodes, max_t, gamma, print_every):\n",
    "    # best_run = []\n",
    "    # best_score = 0\n",
    "    # Help us to calculate the score during the training\n",
    "    scores_deque = deque(maxlen=100)\n",
    "    scores = []\n",
    "    # Line 3 of pseudocode\n",
    "    for i_episode in range(1, n_training_episodes+1):\n",
    "        saved_log_probs = []\n",
    "        rewards = []\n",
    "        state = env.reset()\n",
    "        # img = env.render()\n",
    "        # Line 4 of pseudocode\n",
    "        # images = []\n",
    "        for t in range(max_t):\n",
    "            action, log_prob = policy.act(state) # Code Here: get the action\n",
    "            saved_log_probs.append(log_prob)\n",
    "            state, reward, done, _ = env.step(action)\n",
    "            # img = env.render()\n",
    "            # images.append(img)\n",
    "            rewards.append(reward)\n",
    "            if done:\n",
    "                break\n",
    "        reward_total = sum(rewards)\n",
    "        # if reward_total > best_score:\n",
    "        #     best_score = reward_total\n",
    "        #     best_run = images\n",
    "        scores_deque.append(reward_total)\n",
    "        scores.append(reward_total)\n",
    "\n",
    "        # Line 6 of pseudocode: calculate the return\n",
    "        returns = deque(maxlen=max_t)\n",
    "        n_steps = len(rewards)\n",
    "\n",
    "        # Compute the discounted returns at each timestep,\n",
    "        # as the sum of the gamma-discounted return at time t (G_t) + the reward at time t\n",
    "\n",
    "        ## We compute this starting from the last timestep to the first, to avoid redundant computations\n",
    "\n",
    "        ## appendleft() function of queues appends to the position 0\n",
    "        ## We use deque instead of lists to reduce the time complexity\n",
    "\n",
    "        for t in range(n_steps)[::-1]:\n",
    "            disc_return_t = (returns[0] if len(returns)>0 else 0)\n",
    "            returns.appendleft(gamma*disc_return_t + rewards[t]) # Code Here: complete here\n",
    "\n",
    "        ## standardization for training stability\n",
    "        eps = np.finfo(np.float32).eps.item()\n",
    "\n",
    "        ## eps is added to the standard deviation of the returns to avoid numerical instabilities\n",
    "        returns = torch.tensor(returns)\n",
    "        returns = (returns - returns.mean()) / (returns.std() + eps)\n",
    "\n",
    "        # Line 7:\n",
    "        policy_loss = []\n",
    "        for log_prob, disc_return in zip(saved_log_probs, returns):\n",
    "            policy_loss.append(-log_prob * disc_return)\n",
    "        policy_loss = torch.cat(policy_loss).sum()\n",
    "\n",
    "        # Line 8: PyTorch prefers gradient descent\n",
    "        optimizer.zero_grad()\n",
    "        policy_loss.backward()\n",
    "        optimizer.step()\n",
    "\n",
    "        if i_episode % print_every == 0:\n",
    "            print('Episode {}\\tAverage Score: {:.2f}'.format(i_episode, np.mean(scores_deque)))\n",
    "    \n",
    "    # imageio.mimsave('./best_training_run.mp4', [np.array(img) for i, img in enumerate(images)], fps=30)\n",
    "    return scores"
   ]
  },
  {
   "cell_type": "code",
   "execution_count": 7,
   "metadata": {},
   "outputs": [],
   "source": [
    "hyperparameters = {\n",
    "    \"h_size\": 64,\n",
    "    \"h2_size\": 512,\n",
    "    \"n_training_episodes\": 50000,\n",
    "    \"n_evaluation_episodes\": 10,\n",
    "    \"max_t\": 1000,\n",
    "    \"gamma\": 0.99,\n",
    "    \"lr\": 1e-4,\n",
    "    \"env_id\": env_id,\n",
    "    \"state_space\": s_size,\n",
    "    \"action_space\": a_size,\n",
    "}"
   ]
  },
  {
   "cell_type": "code",
   "execution_count": 8,
   "metadata": {},
   "outputs": [],
   "source": [
    "# Create policy and place it to the device\n",
    "torch.manual_seed(1234) # Don't change this\n",
    "tetris_policy = Policy(hyperparameters[\"state_space\"], hyperparameters[\"action_space\"], hyperparameters[\"h_size\"], hyperparameters[\"h2_size\"]).to(device)\n",
    "tetris_optimizer = optim.Adam(tetris_policy.parameters(), lr=hyperparameters[\"lr\"])"
   ]
  },
  {
   "cell_type": "code",
   "execution_count": 12,
   "metadata": {},
   "outputs": [],
   "source": [
    "first = True"
   ]
  },
  {
   "cell_type": "code",
   "execution_count": 14,
   "metadata": {},
   "outputs": [
    {
     "name": "stdout",
     "output_type": "stream",
     "text": [
      "50000\n"
     ]
    },
    {
     "ename": "KeyboardInterrupt",
     "evalue": "",
     "output_type": "error",
     "traceback": [
      "\u001b[0;31m---------------------------------------------------------------------------\u001b[0m",
      "\u001b[0;31mKeyboardInterrupt\u001b[0m                         Traceback (most recent call last)",
      "\u001b[1;32m/home/ai/Desktop/tetris2/tetris_gym_env/tetris limited actions.ipynb Cell 11\u001b[0m line \u001b[0;36m5\n\u001b[1;32m      <a href='vscode-notebook-cell:/home/ai/Desktop/tetris2/tetris_gym_env/tetris%20limited%20actions.ipynb#X12sZmlsZQ%3D%3D?line=2'>3</a>\u001b[0m     first \u001b[39m=\u001b[39m \u001b[39mFalse\u001b[39;00m\n\u001b[1;32m      <a href='vscode-notebook-cell:/home/ai/Desktop/tetris2/tetris_gym_env/tetris%20limited%20actions.ipynb#X12sZmlsZQ%3D%3D?line=3'>4</a>\u001b[0m \u001b[39mprint\u001b[39m(\u001b[39mlen\u001b[39m(scores))\n\u001b[0;32m----> <a href='vscode-notebook-cell:/home/ai/Desktop/tetris2/tetris_gym_env/tetris%20limited%20actions.ipynb#X12sZmlsZQ%3D%3D?line=4'>5</a>\u001b[0m scores\u001b[39m.\u001b[39mextend(reinforce(tetris_policy,\n\u001b[1;32m      <a href='vscode-notebook-cell:/home/ai/Desktop/tetris2/tetris_gym_env/tetris%20limited%20actions.ipynb#X12sZmlsZQ%3D%3D?line=5'>6</a>\u001b[0m                    tetris_optimizer,\n\u001b[1;32m      <a href='vscode-notebook-cell:/home/ai/Desktop/tetris2/tetris_gym_env/tetris%20limited%20actions.ipynb#X12sZmlsZQ%3D%3D?line=6'>7</a>\u001b[0m                    hyperparameters[\u001b[39m\"\u001b[39;49m\u001b[39mn_training_episodes\u001b[39;49m\u001b[39m\"\u001b[39;49m],\n\u001b[1;32m      <a href='vscode-notebook-cell:/home/ai/Desktop/tetris2/tetris_gym_env/tetris%20limited%20actions.ipynb#X12sZmlsZQ%3D%3D?line=7'>8</a>\u001b[0m                    hyperparameters[\u001b[39m\"\u001b[39;49m\u001b[39mmax_t\u001b[39;49m\u001b[39m\"\u001b[39;49m],\n\u001b[1;32m      <a href='vscode-notebook-cell:/home/ai/Desktop/tetris2/tetris_gym_env/tetris%20limited%20actions.ipynb#X12sZmlsZQ%3D%3D?line=8'>9</a>\u001b[0m                    hyperparameters[\u001b[39m\"\u001b[39;49m\u001b[39mgamma\u001b[39;49m\u001b[39m\"\u001b[39;49m],\n\u001b[1;32m     <a href='vscode-notebook-cell:/home/ai/Desktop/tetris2/tetris_gym_env/tetris%20limited%20actions.ipynb#X12sZmlsZQ%3D%3D?line=9'>10</a>\u001b[0m                    \u001b[39m1000\u001b[39;49m))\n",
      "\u001b[1;32m/home/ai/Desktop/tetris2/tetris_gym_env/tetris limited actions.ipynb Cell 11\u001b[0m line \u001b[0;36m1\n\u001b[1;32m     <a href='vscode-notebook-cell:/home/ai/Desktop/tetris2/tetris_gym_env/tetris%20limited%20actions.ipynb#X12sZmlsZQ%3D%3D?line=11'>12</a>\u001b[0m \u001b[39m# img = env.render()\u001b[39;00m\n\u001b[1;32m     <a href='vscode-notebook-cell:/home/ai/Desktop/tetris2/tetris_gym_env/tetris%20limited%20actions.ipynb#X12sZmlsZQ%3D%3D?line=12'>13</a>\u001b[0m \u001b[39m# Line 4 of pseudocode\u001b[39;00m\n\u001b[1;32m     <a href='vscode-notebook-cell:/home/ai/Desktop/tetris2/tetris_gym_env/tetris%20limited%20actions.ipynb#X12sZmlsZQ%3D%3D?line=13'>14</a>\u001b[0m \u001b[39m# images = []\u001b[39;00m\n\u001b[1;32m     <a href='vscode-notebook-cell:/home/ai/Desktop/tetris2/tetris_gym_env/tetris%20limited%20actions.ipynb#X12sZmlsZQ%3D%3D?line=14'>15</a>\u001b[0m \u001b[39mfor\u001b[39;00m t \u001b[39min\u001b[39;00m \u001b[39mrange\u001b[39m(max_t):\n\u001b[0;32m---> <a href='vscode-notebook-cell:/home/ai/Desktop/tetris2/tetris_gym_env/tetris%20limited%20actions.ipynb#X12sZmlsZQ%3D%3D?line=15'>16</a>\u001b[0m     action, log_prob \u001b[39m=\u001b[39m policy\u001b[39m.\u001b[39;49mact(state) \u001b[39m# Code Here: get the action\u001b[39;00m\n\u001b[1;32m     <a href='vscode-notebook-cell:/home/ai/Desktop/tetris2/tetris_gym_env/tetris%20limited%20actions.ipynb#X12sZmlsZQ%3D%3D?line=16'>17</a>\u001b[0m     saved_log_probs\u001b[39m.\u001b[39mappend(log_prob)\n\u001b[1;32m     <a href='vscode-notebook-cell:/home/ai/Desktop/tetris2/tetris_gym_env/tetris%20limited%20actions.ipynb#X12sZmlsZQ%3D%3D?line=17'>18</a>\u001b[0m     state, reward, done, _ \u001b[39m=\u001b[39m env\u001b[39m.\u001b[39mstep(action)\n",
      "\u001b[1;32m/home/ai/Desktop/tetris2/tetris_gym_env/tetris limited actions.ipynb Cell 11\u001b[0m line \u001b[0;36m4\n\u001b[1;32m     <a href='vscode-notebook-cell:/home/ai/Desktop/tetris2/tetris_gym_env/tetris%20limited%20actions.ipynb#X12sZmlsZQ%3D%3D?line=38'>39</a>\u001b[0m state \u001b[39m=\u001b[39m torch\u001b[39m.\u001b[39mfrom_numpy(state)\u001b[39m.\u001b[39mfloat()\u001b[39m.\u001b[39munsqueeze(\u001b[39m0\u001b[39m)\u001b[39m.\u001b[39mto(device)\n\u001b[1;32m     <a href='vscode-notebook-cell:/home/ai/Desktop/tetris2/tetris_gym_env/tetris%20limited%20actions.ipynb#X12sZmlsZQ%3D%3D?line=39'>40</a>\u001b[0m probs \u001b[39m=\u001b[39m \u001b[39mself\u001b[39m\u001b[39m.\u001b[39mforward(state)\u001b[39m.\u001b[39mcpu()\n\u001b[0;32m---> <a href='vscode-notebook-cell:/home/ai/Desktop/tetris2/tetris_gym_env/tetris%20limited%20actions.ipynb#X12sZmlsZQ%3D%3D?line=40'>41</a>\u001b[0m m \u001b[39m=\u001b[39m Categorical(probs)\n\u001b[1;32m     <a href='vscode-notebook-cell:/home/ai/Desktop/tetris2/tetris_gym_env/tetris%20limited%20actions.ipynb#X12sZmlsZQ%3D%3D?line=41'>42</a>\u001b[0m action \u001b[39m=\u001b[39m m\u001b[39m.\u001b[39msample()\n\u001b[1;32m     <a href='vscode-notebook-cell:/home/ai/Desktop/tetris2/tetris_gym_env/tetris%20limited%20actions.ipynb#X12sZmlsZQ%3D%3D?line=42'>43</a>\u001b[0m \u001b[39mreturn\u001b[39;00m action\u001b[39m.\u001b[39mitem(), m\u001b[39m.\u001b[39mlog_prob(action)\n",
      "File \u001b[0;32m~/.local/lib/python3.10/site-packages/torch/distributions/categorical.py:70\u001b[0m, in \u001b[0;36mCategorical.__init__\u001b[0;34m(self, probs, logits, validate_args)\u001b[0m\n\u001b[1;32m     66\u001b[0m \u001b[39mself\u001b[39m\u001b[39m.\u001b[39m_num_events \u001b[39m=\u001b[39m \u001b[39mself\u001b[39m\u001b[39m.\u001b[39m_param\u001b[39m.\u001b[39msize()[\u001b[39m-\u001b[39m\u001b[39m1\u001b[39m]\n\u001b[1;32m     67\u001b[0m batch_shape \u001b[39m=\u001b[39m (\n\u001b[1;32m     68\u001b[0m     \u001b[39mself\u001b[39m\u001b[39m.\u001b[39m_param\u001b[39m.\u001b[39msize()[:\u001b[39m-\u001b[39m\u001b[39m1\u001b[39m] \u001b[39mif\u001b[39;00m \u001b[39mself\u001b[39m\u001b[39m.\u001b[39m_param\u001b[39m.\u001b[39mndimension() \u001b[39m>\u001b[39m \u001b[39m1\u001b[39m \u001b[39melse\u001b[39;00m torch\u001b[39m.\u001b[39mSize()\n\u001b[1;32m     69\u001b[0m )\n\u001b[0;32m---> 70\u001b[0m \u001b[39msuper\u001b[39;49m()\u001b[39m.\u001b[39;49m\u001b[39m__init__\u001b[39;49m(batch_shape, validate_args\u001b[39m=\u001b[39;49mvalidate_args)\n",
      "File \u001b[0;32m~/.local/lib/python3.10/site-packages/torch/distributions/distribution.py:67\u001b[0m, in \u001b[0;36mDistribution.__init__\u001b[0;34m(self, batch_shape, event_shape, validate_args)\u001b[0m\n\u001b[1;32m     65\u001b[0m         value \u001b[39m=\u001b[39m \u001b[39mgetattr\u001b[39m(\u001b[39mself\u001b[39m, param)\n\u001b[1;32m     66\u001b[0m         valid \u001b[39m=\u001b[39m constraint\u001b[39m.\u001b[39mcheck(value)\n\u001b[0;32m---> 67\u001b[0m         \u001b[39mif\u001b[39;00m \u001b[39mnot\u001b[39;00m valid\u001b[39m.\u001b[39;49mall():\n\u001b[1;32m     68\u001b[0m             \u001b[39mraise\u001b[39;00m \u001b[39mValueError\u001b[39;00m(\n\u001b[1;32m     69\u001b[0m                 \u001b[39mf\u001b[39m\u001b[39m\"\u001b[39m\u001b[39mExpected parameter \u001b[39m\u001b[39m{\u001b[39;00mparam\u001b[39m}\u001b[39;00m\u001b[39m \u001b[39m\u001b[39m\"\u001b[39m\n\u001b[1;32m     70\u001b[0m                 \u001b[39mf\u001b[39m\u001b[39m\"\u001b[39m\u001b[39m(\u001b[39m\u001b[39m{\u001b[39;00m\u001b[39mtype\u001b[39m(value)\u001b[39m.\u001b[39m\u001b[39m__name__\u001b[39m\u001b[39m}\u001b[39;00m\u001b[39m of shape \u001b[39m\u001b[39m{\u001b[39;00m\u001b[39mtuple\u001b[39m(value\u001b[39m.\u001b[39mshape)\u001b[39m}\u001b[39;00m\u001b[39m) \u001b[39m\u001b[39m\"\u001b[39m\n\u001b[0;32m   (...)\u001b[0m\n\u001b[1;32m     73\u001b[0m                 \u001b[39mf\u001b[39m\u001b[39m\"\u001b[39m\u001b[39mbut found invalid values:\u001b[39m\u001b[39m\\n\u001b[39;00m\u001b[39m{\u001b[39;00mvalue\u001b[39m}\u001b[39;00m\u001b[39m\"\u001b[39m\n\u001b[1;32m     74\u001b[0m             )\n\u001b[1;32m     75\u001b[0m \u001b[39msuper\u001b[39m()\u001b[39m.\u001b[39m\u001b[39m__init__\u001b[39m()\n",
      "\u001b[0;31mKeyboardInterrupt\u001b[0m: "
     ]
    }
   ],
   "source": [
    "if first:\n",
    "    scores = []\n",
    "    first = False\n",
    "print(len(scores))\n",
    "scores.extend(reinforce(tetris_policy,\n",
    "                   tetris_optimizer,\n",
    "                   hyperparameters[\"n_training_episodes\"],\n",
    "                   hyperparameters[\"max_t\"],\n",
    "                   hyperparameters[\"gamma\"],\n",
    "                   1000))"
   ]
  },
  {
   "cell_type": "code",
   "execution_count": 16,
   "metadata": {},
   "outputs": [
    {
     "data": {
      "text/plain": [
       "[<matplotlib.lines.Line2D at 0x7ff3d46b2b30>]"
      ]
     },
     "execution_count": 16,
     "metadata": {},
     "output_type": "execute_result"
    },
    {
     "data": {
      "image/png": "[encoded data removed]",
      "text/plain": [
       "<Figure size 600x600 with 1 Axes>"
      ]
     },
     "metadata": {},
     "output_type": "display_data"
    }
   ],
   "source": [
    "figure, axes = plt.subplots(1, figsize=(6, 6))\n",
    "\n",
    "### YOUR CODE STARTS HERE ###\n",
    "    \n",
    "axes.set_title('Average Score Over Time')\n",
    "axes.set_xlabel('Training Episode')\n",
    "axes.set_ylabel('Average Score')\n",
    "axes.plot(range(100,len(scores)+1,100), [np.mean(scores[100*i:100*i+100]) for i in range(len(scores)//100)], color = 'green')"
   ]
  },
  {
   "cell_type": "code",
   "execution_count": 11,
   "metadata": {},
   "outputs": [],
   "source": [
    "# Saving current policy for continued training\n",
    "from time import gmtime, strftime\n",
    "curr_time = strftime(\"%Y.%m.%d-%H.%M.%S\", gmtime())\n",
    "training_state = {'model':tetris_policy.state_dict(), 'optimizer':tetris_optimizer.state_dict()}\n",
    "torch.save(training_state, f'./training_state_limited_{curr_time}.data')"
   ]
  },
  {
   "cell_type": "code",
   "execution_count": 9,
   "metadata": {},
   "outputs": [
    {
     "data": {
      "text/plain": [
       "<All keys matched successfully>"
      ]
     },
     "execution_count": 9,
     "metadata": {},
     "output_type": "execute_result"
    }
   ],
   "source": [
    "# Loading existing policy\n",
    "state = torch.load('training_state_limited_2023.12.06-08.51.00.data')\n",
    "tetris_optimizer.load_state_dict(state['optimizer'])\n",
    "tetris_policy.load_state_dict(state['model'])"
   ]
  },
  {
   "cell_type": "code",
   "execution_count": 11,
   "metadata": {},
   "outputs": [],
   "source": [
    "def record_video(env, policy, out_directory, fps=30):\n",
    "  \"\"\"\n",
    "  Generate a replay video of the agent\n",
    "  :param env\n",
    "  :param Qtable: Qtable of our agent\n",
    "  :param out_directory\n",
    "  :param fps: how many frame per seconds (with taxi-v3 and frozenlake-v1 we use 1)\n",
    "  \"\"\"\n",
    "  images = []\n",
    "  done = False\n",
    "  state = env.reset()\n",
    "  img = env.render()\n",
    "  images.append(img)\n",
    "  for frame in range(1000):\n",
    "    if done:\n",
    "      break\n",
    "    # Take the action (index) that have the maximum expected future reward given that state\n",
    "    action, _ = policy.act(state)\n",
    "    state, reward, done, info = env.step(action) # We directly put next_state = state for recording logic\n",
    "    img = env.render()\n",
    "    images.append(img)\n",
    "  imageio.mimsave(out_directory, [np.array(img) for i, img in enumerate(images)], fps=fps)"
   ]
  },
  {
   "cell_type": "code",
   "execution_count": 12,
   "metadata": {},
   "outputs": [],
   "source": [
    "from time import gmtime, strftime\n",
    "curr_time = strftime(\"%Y.%m.%d-%H.%M.%S\", gmtime())\n",
    "record_video(eval_env, tetris_policy, f'./replay_limited_{curr_time}.mp4')"
   ]
  }
 ],
 "metadata": {
  "kernelspec": {
   "display_name": "Python 3",
   "language": "python",
   "name": "python3"
  },
  "language_info": {
   "codemirror_mode": {
    "name": "ipython",
    "version": 3
   },
   "file_extension": ".py",
   "mimetype": "text/x-python",
   "name": "python",
   "nbconvert_exporter": "python",
   "pygments_lexer": "ipython3",
   "version": "3.10.12"
  }
 },
 "nbformat": 4,
 "nbformat_minor": 2
}
