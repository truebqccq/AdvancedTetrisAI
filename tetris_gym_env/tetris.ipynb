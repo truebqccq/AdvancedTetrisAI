{
 "cells": [
  {
   "cell_type": "markdown",
   "metadata": {},
   "source": [
    "### TODO: ###\n",
    "- Implement additional bonus score features:\n",
    "    - Full clear\n",
    "    - Combos\n",
    "- Select NN type"
   ]
  },
  {
   "cell_type": "code",
   "execution_count": 2,
   "metadata": {},
   "outputs": [],
   "source": [
    "import numpy as np\n",
    "\n",
    "from collections import deque\n",
    "\n",
    "import matplotlib.pyplot as plt\n",
    "%matplotlib inline\n",
    "\n",
    "# PyTorch\n",
    "import torch\n",
    "import torch.nn as nn\n",
    "import torch.nn.functional as F\n",
    "import torch.optim as optim\n",
    "from torch.distributions import Categorical\n",
    "\n",
    "# Gym\n",
    "import gym\n",
    "# import gym_pygame\n",
    "\n",
    "# Hugging Face Hub\n",
    "# from huggingface_hub import notebook_login # To log to our Hugging Face account to be able to upload models to the Hub.\n",
    "import imageio"
   ]
  },
  {
   "cell_type": "code",
   "execution_count": 3,
   "metadata": {},
   "outputs": [
    {
     "name": "stdout",
     "output_type": "stream",
     "text": [
      "Build Tetris v2.0\n",
      "Build Tetris v2.0\n"
     ]
    },
    {
     "name": "stderr",
     "output_type": "stream",
     "text": [
      "/home/ai/.local/lib/python3.10/site-packages/gym/utils/passive_env_checker.py:20: UserWarning: \u001b[33mWARN: It seems a Box observation space is an image but the `dtype` is not `np.uint8`, actual type: float32. If the Box observation space is not an image, we recommend flattening the observation to have only a 1D vector.\u001b[0m\n",
      "  logger.warn(\n",
      "/home/ai/.local/lib/python3.10/site-packages/gym/utils/passive_env_checker.py:25: UserWarning: \u001b[33mWARN: It seems a Box observation space is an image but the upper and lower bounds are not in [0, 255]. Generally, CNN policies assume observations are within that range, so you may encounter an issue if the observation values are not.\u001b[0m\n",
      "  logger.warn(\n"
     ]
    }
   ],
   "source": [
    "env_id = \"gym_tetris:tetris_rl\"\n",
    "env = gym.make(env_id, render_mode='none')\n",
    "eval_env = gym.make(env_id, render_mode='rgb_array')\n",
    "s_size = env.observation_space.shape\n",
    "a_size = env.action_space.n"
   ]
  },
  {
   "cell_type": "code",
   "execution_count": 4,
   "metadata": {},
   "outputs": [
    {
     "name": "stdout",
     "output_type": "stream",
     "text": [
      "cpu\n"
     ]
    }
   ],
   "source": [
    "device = torch.device(\"cuda:0\" if torch.cuda.is_available() else \"cpu\")\n",
    "print(device)"
   ]
  },
  {
   "cell_type": "code",
   "execution_count": 5,
   "metadata": {},
   "outputs": [
    {
     "name": "stdout",
     "output_type": "stream",
     "text": [
      "_____OBSERVATION SPACE_____ \n",
      "\n",
      "The State Space is:  (1, 29, 10)\n",
      "Sample observation [[[1.5397036  0.06343687 1.8872619  1.382159   1.0473682  1.9251984\n",
      "   0.897264   0.08528348 0.9151433  1.4723036 ]\n",
      "  [1.4595941  0.9403704  0.12845424 0.24668245 0.98228955 1.810586\n",
      "   0.5658485  1.5171816  1.3840156  0.8950672 ]\n",
      "  [1.8609204  1.2891196  0.01590791 0.4629989  1.9793016  1.2563976\n",
      "   1.5024828  0.20838559 1.572939   1.253561  ]\n",
      "  [1.827416   1.747668   0.00356866 1.1272912  0.85146224 0.87206817\n",
      "   1.6508422  0.76265657 0.65587723 1.434788  ]\n",
      "  [1.6952497  0.44505724 0.95580584 1.6327839  0.19105239 0.4629011\n",
      "   1.5527922  1.4278998  0.6794224  1.7080076 ]\n",
      "  [0.02124046 0.61270976 1.5144837  1.8331058  0.5035843  0.05569146\n",
      "   1.9102182  0.05203543 1.4397836  0.18588194]\n",
      "  [1.2594516  1.0238037  0.9037286  1.3967718  1.0813528  1.5491322\n",
      "   0.53656226 1.7995676  1.7281747  0.10986555]\n",
      "  [1.6532967  1.4513876  0.25945222 0.21618292 1.2332275  1.4411674\n",
      "   1.1680328  0.46649566 0.08648942 0.30070105]\n",
      "  [1.5597377  0.6725781  1.9360663  1.1395078  0.609891   1.5549552\n",
      "   0.1916631  1.6201073  1.4597135  1.835394  ]\n",
      "  [0.25072995 0.0492092  1.7613369  1.0522408  0.34328046 0.9276633\n",
      "   0.3748208  1.304924   1.8769027  1.1544629 ]\n",
      "  [0.10902798 1.3963871  0.9244541  0.05833873 0.08480611 1.4111323\n",
      "   1.1514931  0.50678927 1.39338    0.4045073 ]\n",
      "  [1.9246322  1.9646921  0.25001085 0.2929222  0.28512    0.30234307\n",
      "   0.0407696  0.43762788 1.1128795  0.9891499 ]\n",
      "  [0.907258   0.17545347 0.26360446 0.2122882  1.3121277  0.38506028\n",
      "   1.976277   1.3884842  0.4881214  0.22178543]\n",
      "  [0.54484797 0.8465996  1.0733373  0.8434424  1.3795863  1.6171774\n",
      "   0.07432985 1.6445162  0.6547907  1.7415982 ]\n",
      "  [0.9824901  0.3280718  0.3719211  0.84471136 1.5885642  1.8129619\n",
      "   0.5681627  1.8279315  0.2618548  1.4253042 ]\n",
      "  [1.7278714  0.3575872  0.966439   1.1539689  1.3243574  0.22518209\n",
      "   1.9181933  0.49730247 0.9652316  1.7178726 ]\n",
      "  [0.37512732 0.168299   0.44767103 1.2131023  1.8677385  0.45256385\n",
      "   1.8672332  1.2406392  1.391309   0.11065584]\n",
      "  [1.6448517  1.2332364  0.11598354 0.67439884 0.6646565  0.01340281\n",
      "   1.2976218  1.4728987  1.3197939  1.0101993 ]\n",
      "  [1.1872206  1.9048365  0.2611471  0.96929944 1.7722787  0.62226856\n",
      "   1.9770057  1.0235146  0.5926761  0.93227714]\n",
      "  [0.9496274  1.6372162  1.7813195  1.7963102  0.6656322  0.4206808\n",
      "   1.6770072  1.2217296  0.45103276 1.082001  ]\n",
      "  [1.1552523  1.4980962  0.93818545 0.8001036  0.38416547 1.9937251\n",
      "   1.5304539  0.6948791  1.7567779  0.6015153 ]\n",
      "  [1.5681732  0.26836222 1.2578406  0.09740686 1.4844998  1.0131531\n",
      "   1.4295857  0.50175136 1.5565615  0.84992063]\n",
      "  [1.9609426  0.30575866 0.7792011  1.7666628  0.8015225  1.2687608\n",
      "   1.7228014  0.3447173  1.4714283  0.60747343]\n",
      "  [0.956938   1.4636008  1.993829   0.13510792 0.8412254  0.9709152\n",
      "   1.139427   0.02636253 0.9037813  1.6590087 ]\n",
      "  [0.40340933 1.1729484  0.4845168  1.6698635  0.7679424  0.5429389\n",
      "   1.7753932  1.8020442  0.940067   1.9833022 ]\n",
      "  [1.2369645  1.3224127  1.9519515  0.30592674 0.67317516 1.2613659\n",
      "   0.87106144 0.7969458  0.47524816 0.22336082]\n",
      "  [1.7046112  0.69487685 0.98957396 1.8043944  1.8255049  0.5970739\n",
      "   0.7896636  1.5652261  0.38300002 1.6766887 ]\n",
      "  [1.0063988  1.589619   1.2559143  1.8764304  1.478446   0.4756493\n",
      "   0.43511978 0.54860747 1.9710203  1.0533568 ]\n",
      "  [0.9737082  0.8592404  0.6179498  1.7647595  1.1281025  0.10924014\n",
      "   0.56026304 1.0374731  1.8915014  0.20442002]]]\n",
      "\n",
      " _____ACTION SPACE_____ \n",
      "\n",
      "The Action Space is:  7\n",
      "Action Space Sample 3\n",
      "(1, 29, 10)\n"
     ]
    }
   ],
   "source": [
    "print(\"_____OBSERVATION SPACE_____ \\n\")\n",
    "print(\"The State Space is: \", s_size)\n",
    "print(\"Sample observation\", env.observation_space.sample()) # Get a random observation\n",
    "\n",
    "print(\"\\n _____ACTION SPACE_____ \\n\")\n",
    "print(\"The Action Space is: \", a_size)\n",
    "print(\"Action Space Sample\", env.action_space.sample()) # Take a random action\n",
    "\n",
    "print(env.observation_space.shape)"
   ]
  },
  {
   "cell_type": "code",
   "execution_count": 6,
   "metadata": {},
   "outputs": [],
   "source": [
    "class Policy(nn.Module):\n",
    "    def __init__(self, s_size, a_size, h_size, h2_size):\n",
    "        super(Policy, self).__init__()\n",
    "\n",
    "        # Convolutional Network\n",
    "        # self.conv = nn.Sequential(nn.Conv2d(s_size[0], h_size, 4), nn.ReLU(),\n",
    "        #     nn.Conv2d(h_size, h_size, kernel_size=3, stride=1),nn.ReLU())\n",
    "        # # print(self.conv(torch.zeros(1,*s_size,4)).size())\n",
    "        # self.fc = nn.Sequential(\n",
    "        #     nn.Linear(int(np.prod(self.conv(torch.zeros(1,*s_size)).size())), h2_size),\n",
    "        #     nn.ReLU(),\n",
    "        #     nn.Linear(h2_size, a_size)\n",
    "        # )\n",
    "\n",
    "        # Linear Network\n",
    "        self.fc1 = nn.Linear(np.prod(s_size), h_size)\n",
    "        self.fc2 = nn.Linear(h_size, h_size)\n",
    "        self.fc3 = nn.Linear(h_size, a_size)\n",
    "\n",
    "        \n",
    "\n",
    "    def forward(self, x):\n",
    "        # Convlutional Network\n",
    "        # x = self.conv(x).view(x.size()[0], -1)\n",
    "        # x = self.fc(x)\n",
    "\n",
    "        # Linear Network\n",
    "        x = np.reshape(x,(1,-1))\n",
    "        x = torch.relu(self.fc1(x))\n",
    "        x = torch.relu(self.fc2(x))\n",
    "        x = self.fc3(x)\n",
    "\n",
    "        # print(np.shape(x))\n",
    "        # We output the softmax\n",
    "        return F.softmax(x, dim=1)\n",
    "\n",
    "    def act(self, state):\n",
    "        state = torch.from_numpy(state).float().unsqueeze(0).to(device)\n",
    "        probs = self.forward(state).cpu()\n",
    "        m = Categorical(probs)\n",
    "        action = m.sample()\n",
    "        return action.item(), m.log_prob(action)"
   ]
  },
  {
   "cell_type": "code",
   "execution_count": 7,
   "metadata": {},
   "outputs": [],
   "source": [
    "def reinforce(policy, optimizer, n_training_episodes, max_t, gamma, print_every):\n",
    "    # Help us to calculate the score during the training\n",
    "    scores_deque = deque(maxlen=100)\n",
    "    scores = []\n",
    "    # Line 3 of pseudocode\n",
    "    for i_episode in range(1, n_training_episodes+1):\n",
    "        saved_log_probs = []\n",
    "        rewards = []\n",
    "        state = env.reset()\n",
    "        # Line 4 of pseudocode\n",
    "        for t in range(max_t):\n",
    "            action, log_prob = policy.act(state) # Code Here: get the action\n",
    "            saved_log_probs.append(log_prob)\n",
    "            state, reward, done, _ = env.step(action)\n",
    "            rewards.append(reward)\n",
    "            if done:\n",
    "                break\n",
    "        scores_deque.append(sum(rewards))\n",
    "        scores.append(sum(rewards))\n",
    "\n",
    "        # Line 6 of pseudocode: calculate the return\n",
    "        returns = deque(maxlen=max_t)\n",
    "        n_steps = len(rewards)\n",
    "\n",
    "        # Compute the discounted returns at each timestep,\n",
    "        # as the sum of the gamma-discounted return at time t (G_t) + the reward at time t\n",
    "\n",
    "        ## We compute this starting from the last timestep to the first, to avoid redundant computations\n",
    "\n",
    "        ## appendleft() function of queues appends to the position 0\n",
    "        ## We use deque instead of lists to reduce the time complexity\n",
    "\n",
    "        for t in range(n_steps)[::-1]:\n",
    "            disc_return_t = (returns[0] if len(returns)>0 else 0)\n",
    "            returns.appendleft(gamma*disc_return_t + rewards[t]) # Code Here: complete here\n",
    "\n",
    "        ## standardization for training stability\n",
    "        eps = np.finfo(np.float32).eps.item()\n",
    "\n",
    "        ## eps is added to the standard deviation of the returns to avoid numerical instabilities\n",
    "        returns = torch.tensor(returns)\n",
    "        returns = (returns - returns.mean()) / (returns.std() + eps)\n",
    "\n",
    "        # Line 7:\n",
    "        policy_loss = []\n",
    "        for log_prob, disc_return in zip(saved_log_probs, returns):\n",
    "            policy_loss.append(-log_prob * disc_return)\n",
    "        policy_loss = torch.cat(policy_loss).sum()\n",
    "\n",
    "        # Line 8: PyTorch prefers gradient descent\n",
    "        optimizer.zero_grad()\n",
    "        policy_loss.backward()\n",
    "        optimizer.step()\n",
    "\n",
    "        if i_episode % print_every == 0:\n",
    "            print('Episode {}\\tAverage Score: {:.2f}'.format(i_episode, np.mean(scores_deque)))\n",
    "\n",
    "    return scores"
   ]
  },
  {
   "cell_type": "code",
   "execution_count": 11,
   "metadata": {},
   "outputs": [],
   "source": [
    "hyperparameters = {\n",
    "    \"h_size\": 64,\n",
    "    \"h2_size\": 512,\n",
    "    \"n_training_episodes\": 50000,\n",
    "    \"n_evaluation_episodes\": 10,\n",
    "    \"max_t\": 1000,\n",
    "    \"gamma\": 0.99,\n",
    "    \"lr\": 1e-4,\n",
    "    \"env_id\": env_id,\n",
    "    \"state_space\": s_size,\n",
    "    \"action_space\": a_size,\n",
    "}"
   ]
  },
  {
   "cell_type": "code",
   "execution_count": 9,
   "metadata": {},
   "outputs": [],
   "source": [
    "# Create policy and place it to the device\n",
    "torch.manual_seed(50) # Don't change this\n",
    "tetris_policy = Policy(hyperparameters[\"state_space\"], hyperparameters[\"action_space\"], hyperparameters[\"h_size\"], hyperparameters[\"h2_size\"]).to(device)\n",
    "tetris_optimizer = optim.Adam(tetris_policy.parameters(), lr=hyperparameters[\"lr\"])"
   ]
  },
  {
   "cell_type": "code",
   "execution_count": 12,
   "metadata": {},
   "outputs": [
    {
     "name": "stderr",
     "output_type": "stream",
     "text": [
      "/home/ai/.local/lib/python3.10/site-packages/gym/utils/passive_env_checker.py:174: UserWarning: \u001b[33mWARN: Future gym versions will require that `Env.reset` can be passed a `seed` instead of using `Env.seed` for resetting the environment random number generator.\u001b[0m\n",
      "  logger.warn(\n",
      "/home/ai/.local/lib/python3.10/site-packages/gym/utils/passive_env_checker.py:187: UserWarning: \u001b[33mWARN: Future gym versions will require that `Env.reset` can be passed `options` to allow the environment initialisation to be passed additional information.\u001b[0m\n",
      "  logger.warn(\n",
      "/home/ai/.local/lib/python3.10/site-packages/gym/utils/passive_env_checker.py:195: UserWarning: \u001b[33mWARN: The result returned by `env.reset()` was not a tuple of the form `(obs, info)`, where `obs` is a observation and `info` is a dictionary containing additional information. Actual type: `<class 'numpy.ndarray'>`\u001b[0m\n",
      "  logger.warn(\n",
      "/home/ai/.local/lib/python3.10/site-packages/gym/utils/passive_env_checker.py:219: DeprecationWarning: \u001b[33mWARN: Core environment is written in old step API which returns one bool instead of two. It is recommended to rewrite the environment with new step API. \u001b[0m\n",
      "  logger.deprecation(\n",
      "/home/ai/.local/lib/python3.10/site-packages/gym/utils/passive_env_checker.py:225: DeprecationWarning: `np.bool8` is a deprecated alias for `np.bool_`.  (Deprecated NumPy 1.24)\n",
      "  if not isinstance(done, (bool, np.bool8)):\n",
      "/home/ai/.local/lib/python3.10/site-packages/gym/utils/passive_env_checker.py:165: UserWarning: \u001b[33mWARN: The obs returned by the `step()` method is not within the observation space.\u001b[0m\n",
      "  logger.warn(f\"{pre} is not within the observation space.\")\n"
     ]
    },
    {
     "name": "stdout",
     "output_type": "stream",
     "text": [
      "Episode 100\tAverage Score: 0.00\n",
      "Episode 200\tAverage Score: -0.19\n",
      "Episode 300\tAverage Score: 0.01\n",
      "Episode 400\tAverage Score: 0.13\n",
      "Episode 500\tAverage Score: -0.33\n",
      "Episode 600\tAverage Score: -0.41\n",
      "Episode 700\tAverage Score: 0.06\n"
     ]
    },
    {
     "ename": "KeyboardInterrupt",
     "evalue": "",
     "output_type": "error",
     "traceback": [
      "\u001b[0;31m---------------------------------------------------------------------------\u001b[0m",
      "\u001b[0;31mKeyboardInterrupt\u001b[0m                         Traceback (most recent call last)",
      "\u001b[1;32m/home/ai/Desktop/tetris2/tetris_gym_env/tetris.ipynb Cell 10\u001b[0m line \u001b[0;36m1\n\u001b[0;32m----> <a href='vscode-notebook-cell:/home/ai/Desktop/tetris2/tetris_gym_env/tetris.ipynb#X12sZmlsZQ%3D%3D?line=0'>1</a>\u001b[0m scores \u001b[39m=\u001b[39m reinforce(tetris_policy,\n\u001b[1;32m      <a href='vscode-notebook-cell:/home/ai/Desktop/tetris2/tetris_gym_env/tetris.ipynb#X12sZmlsZQ%3D%3D?line=1'>2</a>\u001b[0m                    tetris_optimizer,\n\u001b[1;32m      <a href='vscode-notebook-cell:/home/ai/Desktop/tetris2/tetris_gym_env/tetris.ipynb#X12sZmlsZQ%3D%3D?line=2'>3</a>\u001b[0m                    hyperparameters[\u001b[39m\"\u001b[39;49m\u001b[39mn_training_episodes\u001b[39;49m\u001b[39m\"\u001b[39;49m],\n\u001b[1;32m      <a href='vscode-notebook-cell:/home/ai/Desktop/tetris2/tetris_gym_env/tetris.ipynb#X12sZmlsZQ%3D%3D?line=3'>4</a>\u001b[0m                    hyperparameters[\u001b[39m\"\u001b[39;49m\u001b[39mmax_t\u001b[39;49m\u001b[39m\"\u001b[39;49m],\n\u001b[1;32m      <a href='vscode-notebook-cell:/home/ai/Desktop/tetris2/tetris_gym_env/tetris.ipynb#X12sZmlsZQ%3D%3D?line=4'>5</a>\u001b[0m                    hyperparameters[\u001b[39m\"\u001b[39;49m\u001b[39mgamma\u001b[39;49m\u001b[39m\"\u001b[39;49m],\n\u001b[1;32m      <a href='vscode-notebook-cell:/home/ai/Desktop/tetris2/tetris_gym_env/tetris.ipynb#X12sZmlsZQ%3D%3D?line=5'>6</a>\u001b[0m                    \u001b[39m100\u001b[39;49m)\n",
      "\u001b[1;32m/home/ai/Desktop/tetris2/tetris_gym_env/tetris.ipynb Cell 10\u001b[0m line \u001b[0;36m5\n\u001b[1;32m     <a href='vscode-notebook-cell:/home/ai/Desktop/tetris2/tetris_gym_env/tetris.ipynb#X12sZmlsZQ%3D%3D?line=49'>50</a>\u001b[0m \u001b[39m# Line 8: PyTorch prefers gradient descent\u001b[39;00m\n\u001b[1;32m     <a href='vscode-notebook-cell:/home/ai/Desktop/tetris2/tetris_gym_env/tetris.ipynb#X12sZmlsZQ%3D%3D?line=50'>51</a>\u001b[0m optimizer\u001b[39m.\u001b[39mzero_grad()\n\u001b[0;32m---> <a href='vscode-notebook-cell:/home/ai/Desktop/tetris2/tetris_gym_env/tetris.ipynb#X12sZmlsZQ%3D%3D?line=51'>52</a>\u001b[0m policy_loss\u001b[39m.\u001b[39;49mbackward()\n\u001b[1;32m     <a href='vscode-notebook-cell:/home/ai/Desktop/tetris2/tetris_gym_env/tetris.ipynb#X12sZmlsZQ%3D%3D?line=52'>53</a>\u001b[0m optimizer\u001b[39m.\u001b[39mstep()\n\u001b[1;32m     <a href='vscode-notebook-cell:/home/ai/Desktop/tetris2/tetris_gym_env/tetris.ipynb#X12sZmlsZQ%3D%3D?line=54'>55</a>\u001b[0m \u001b[39mif\u001b[39;00m i_episode \u001b[39m%\u001b[39m print_every \u001b[39m==\u001b[39m \u001b[39m0\u001b[39m:\n",
      "File \u001b[0;32m~/.local/lib/python3.10/site-packages/torch/_tensor.py:492\u001b[0m, in \u001b[0;36mTensor.backward\u001b[0;34m(self, gradient, retain_graph, create_graph, inputs)\u001b[0m\n\u001b[1;32m    482\u001b[0m \u001b[39mif\u001b[39;00m has_torch_function_unary(\u001b[39mself\u001b[39m):\n\u001b[1;32m    483\u001b[0m     \u001b[39mreturn\u001b[39;00m handle_torch_function(\n\u001b[1;32m    484\u001b[0m         Tensor\u001b[39m.\u001b[39mbackward,\n\u001b[1;32m    485\u001b[0m         (\u001b[39mself\u001b[39m,),\n\u001b[0;32m   (...)\u001b[0m\n\u001b[1;32m    490\u001b[0m         inputs\u001b[39m=\u001b[39minputs,\n\u001b[1;32m    491\u001b[0m     )\n\u001b[0;32m--> 492\u001b[0m torch\u001b[39m.\u001b[39;49mautograd\u001b[39m.\u001b[39;49mbackward(\n\u001b[1;32m    493\u001b[0m     \u001b[39mself\u001b[39;49m, gradient, retain_graph, create_graph, inputs\u001b[39m=\u001b[39;49minputs\n\u001b[1;32m    494\u001b[0m )\n",
      "File \u001b[0;32m~/.local/lib/python3.10/site-packages/torch/autograd/__init__.py:251\u001b[0m, in \u001b[0;36mbackward\u001b[0;34m(tensors, grad_tensors, retain_graph, create_graph, grad_variables, inputs)\u001b[0m\n\u001b[1;32m    246\u001b[0m     retain_graph \u001b[39m=\u001b[39m create_graph\n\u001b[1;32m    248\u001b[0m \u001b[39m# The reason we repeat the same comment below is that\u001b[39;00m\n\u001b[1;32m    249\u001b[0m \u001b[39m# some Python versions print out the first line of a multi-line function\u001b[39;00m\n\u001b[1;32m    250\u001b[0m \u001b[39m# calls in the traceback and some print out the last line\u001b[39;00m\n\u001b[0;32m--> 251\u001b[0m Variable\u001b[39m.\u001b[39;49m_execution_engine\u001b[39m.\u001b[39;49mrun_backward(  \u001b[39m# Calls into the C++ engine to run the backward pass\u001b[39;49;00m\n\u001b[1;32m    252\u001b[0m     tensors,\n\u001b[1;32m    253\u001b[0m     grad_tensors_,\n\u001b[1;32m    254\u001b[0m     retain_graph,\n\u001b[1;32m    255\u001b[0m     create_graph,\n\u001b[1;32m    256\u001b[0m     inputs,\n\u001b[1;32m    257\u001b[0m     allow_unreachable\u001b[39m=\u001b[39;49m\u001b[39mTrue\u001b[39;49;00m,\n\u001b[1;32m    258\u001b[0m     accumulate_grad\u001b[39m=\u001b[39;49m\u001b[39mTrue\u001b[39;49;00m,\n\u001b[1;32m    259\u001b[0m )\n",
      "\u001b[0;31mKeyboardInterrupt\u001b[0m: "
     ]
    }
   ],
   "source": [
    "scores = reinforce(tetris_policy,\n",
    "                   tetris_optimizer,\n",
    "                   hyperparameters[\"n_training_episodes\"],\n",
    "                   hyperparameters[\"max_t\"],\n",
    "                   hyperparameters[\"gamma\"],\n",
    "                   100)"
   ]
  },
  {
   "cell_type": "code",
   "execution_count": 1,
   "metadata": {},
   "outputs": [
    {
     "ename": "NameError",
     "evalue": "name 'tetris_policy' is not defined",
     "output_type": "error",
     "traceback": [
      "\u001b[0;31m---------------------------------------------------------------------------\u001b[0m",
      "\u001b[0;31mNameError\u001b[0m                                 Traceback (most recent call last)",
      "\u001b[1;32m/home/ai/Desktop/tetris2/tetris_gym_env/tetris.ipynb Cell 11\u001b[0m line \u001b[0;36m4\n\u001b[1;32m      <a href='vscode-notebook-cell:/home/ai/Desktop/tetris2/tetris_gym_env/tetris.ipynb#X13sZmlsZQ%3D%3D?line=1'>2</a>\u001b[0m \u001b[39mfrom\u001b[39;00m \u001b[39mtime\u001b[39;00m \u001b[39mimport\u001b[39;00m gmtime, strftime\n\u001b[1;32m      <a href='vscode-notebook-cell:/home/ai/Desktop/tetris2/tetris_gym_env/tetris.ipynb#X13sZmlsZQ%3D%3D?line=2'>3</a>\u001b[0m curr_time \u001b[39m=\u001b[39m strftime(\u001b[39m\"\u001b[39m\u001b[39m%\u001b[39m\u001b[39mY.\u001b[39m\u001b[39m%\u001b[39m\u001b[39mm.\u001b[39m\u001b[39m%d\u001b[39;00m\u001b[39m-\u001b[39m\u001b[39m%\u001b[39m\u001b[39mH.\u001b[39m\u001b[39m%\u001b[39m\u001b[39mM.\u001b[39m\u001b[39m%\u001b[39m\u001b[39mS\u001b[39m\u001b[39m\"\u001b[39m, gmtime())\n\u001b[0;32m----> <a href='vscode-notebook-cell:/home/ai/Desktop/tetris2/tetris_gym_env/tetris.ipynb#X13sZmlsZQ%3D%3D?line=3'>4</a>\u001b[0m training_state \u001b[39m=\u001b[39m {\u001b[39m'\u001b[39m\u001b[39mmodel\u001b[39m\u001b[39m'\u001b[39m:tetris_policy\u001b[39m.\u001b[39mstate_dict(), \u001b[39m'\u001b[39m\u001b[39moptimizer\u001b[39m\u001b[39m'\u001b[39m:tetris_optimizer\u001b[39m.\u001b[39mstate_dict()}\n\u001b[1;32m      <a href='vscode-notebook-cell:/home/ai/Desktop/tetris2/tetris_gym_env/tetris.ipynb#X13sZmlsZQ%3D%3D?line=4'>5</a>\u001b[0m torch\u001b[39m.\u001b[39msave(training_state, \u001b[39mf\u001b[39m\u001b[39m'\u001b[39m\u001b[39m./training_state_\u001b[39m\u001b[39m{\u001b[39;00mcurr_time\u001b[39m}\u001b[39;00m\u001b[39m.data\u001b[39m\u001b[39m'\u001b[39m)\n",
      "\u001b[0;31mNameError\u001b[0m: name 'tetris_policy' is not defined"
     ]
    }
   ],
   "source": [
    "# Saving current policy for continued training\n",
    "from time import gmtime, strftime\n",
    "curr_time = strftime(\"%Y.%m.%d-%H.%M.%S\", gmtime())\n",
    "training_state = {'model':tetris_policy.state_dict(), 'optimizer':tetris_optimizer.state_dict()}\n",
    "torch.save(training_state, f'./training_state_{curr_time}.data')"
   ]
  },
  {
   "cell_type": "code",
   "execution_count": 13,
   "metadata": {},
   "outputs": [
    {
     "data": {
      "text/plain": [
       "<All keys matched successfully>"
      ]
     },
     "execution_count": 13,
     "metadata": {},
     "output_type": "execute_result"
    }
   ],
   "source": [
    "# Loading existing policy\n",
    "state = torch.load('./training_state_2023.12.07-11.04.44.data')\n",
    "tetris_optimizer.load_state_dict(state['optimizer'])\n",
    "tetris_policy.load_state_dict(state['model'])"
   ]
  },
  {
   "cell_type": "code",
   "execution_count": 17,
   "metadata": {},
   "outputs": [],
   "source": [
    "file = open('./training_scores_200k.txt','w')\n",
    "for item in scores:\n",
    "\tfile.write(f'{item} ')\n",
    "file.write('\\n')\n",
    "file.flush()\n",
    "file.close()"
   ]
  },
  {
   "cell_type": "code",
   "execution_count": 19,
   "metadata": {},
   "outputs": [
    {
     "data": {
      "text/plain": [
       "[<matplotlib.lines.Line2D at 0x7fdf8e0aa590>]"
      ]
     },
     "execution_count": 19,
     "metadata": {},
     "output_type": "execute_result"
    },
    {
     "data": {
      "image/png": "[encoded data removed]",
      "text/plain": [
       "<Figure size 600x600 with 1 Axes>"
      ]
     },
     "metadata": {},
     "output_type": "display_data"
    }
   ],
   "source": [
    "figure, axes = plt.subplots(1, figsize=(6, 6))\n",
    "\n",
    "### YOUR CODE STARTS HERE ###\n",
    "    \n",
    "axes.set_title('Average Score Over Time')\n",
    "axes.set_xlabel('Training Episode')\n",
    "axes.set_ylabel('Average Score')\n",
    "count = len(scores)//100\n",
    "axes.plot(range(100,len(scores)+1,100), [np.mean(scores[100*i:100*i+100]) for i in range(count)], color = 'green')"
   ]
  },
  {
   "cell_type": "code",
   "execution_count": 14,
   "metadata": {},
   "outputs": [],
   "source": [
    "def record_video(env, policy, out_directory, fps=30):\n",
    "  \"\"\"\n",
    "  Generate a replay video of the agent\n",
    "  :param env\n",
    "  :param Qtable: Qtable of our agent\n",
    "  :param out_directory\n",
    "  :param fps: how many frame per seconds (with taxi-v3 and frozenlake-v1 we use 1)\n",
    "  \"\"\"\n",
    "  images = []\n",
    "  done = False\n",
    "  state = env.reset()\n",
    "  img = env.render()\n",
    "  images.append(img)\n",
    "  for frame in range(5000):\n",
    "    if done:\n",
    "      break\n",
    "    # Take the action (index) that have the maximum expected future reward given that state\n",
    "    action, _ = policy.act(state)\n",
    "    state, reward, done, info = env.step(action) # We directly put next_state = state for recording logic\n",
    "    img = env.render()\n",
    "    images.append(img)\n",
    "  imageio.mimsave(out_directory, [np.array(img) for i, img in enumerate(images)], fps=fps)"
   ]
  },
  {
   "cell_type": "code",
   "execution_count": 15,
   "metadata": {},
   "outputs": [
    {
     "name": "stderr",
     "output_type": "stream",
     "text": [
      "/home/ai/.local/lib/python3.10/site-packages/gym/utils/passive_env_checker.py:174: UserWarning: \u001b[33mWARN: Future gym versions will require that `Env.reset` can be passed a `seed` instead of using `Env.seed` for resetting the environment random number generator.\u001b[0m\n",
      "  logger.warn(\n",
      "/home/ai/.local/lib/python3.10/site-packages/gym/utils/passive_env_checker.py:187: UserWarning: \u001b[33mWARN: Future gym versions will require that `Env.reset` can be passed `options` to allow the environment initialisation to be passed additional information.\u001b[0m\n",
      "  logger.warn(\n",
      "/home/ai/.local/lib/python3.10/site-packages/gym/utils/passive_env_checker.py:195: UserWarning: \u001b[33mWARN: The result returned by `env.reset()` was not a tuple of the form `(obs, info)`, where `obs` is a observation and `info` is a dictionary containing additional information. Actual type: `<class 'numpy.ndarray'>`\u001b[0m\n",
      "  logger.warn(\n",
      "/home/ai/.local/lib/python3.10/site-packages/gym/utils/passive_env_checker.py:219: DeprecationWarning: \u001b[33mWARN: Core environment is written in old step API which returns one bool instead of two. It is recommended to rewrite the environment with new step API. \u001b[0m\n",
      "  logger.deprecation(\n",
      "/home/ai/.local/lib/python3.10/site-packages/gym/utils/passive_env_checker.py:225: DeprecationWarning: `np.bool8` is a deprecated alias for `np.bool_`.  (Deprecated NumPy 1.24)\n",
      "  if not isinstance(done, (bool, np.bool8)):\n",
      "/home/ai/.local/lib/python3.10/site-packages/gym/utils/passive_env_checker.py:165: UserWarning: \u001b[33mWARN: The obs returned by the `step()` method is not within the observation space.\u001b[0m\n",
      "  logger.warn(f\"{pre} is not within the observation space.\")\n",
      "IMAGEIO FFMPEG_WRITER WARNING: input image is not divisible by macro_block_size=16, resizing from (1200, 660) to (1200, 672) to ensure video compatibility with most codecs and players. To prevent resizing, make your input image divisible by the macro_block_size or set the macro_block_size to 1 (risking incompatibility).\n"
     ]
    }
   ],
   "source": [
    "from time import gmtime, strftime\n",
    "curr_time = strftime(\"%Y.%m.%d-%H.%M.%S\", gmtime())\n",
    "record_video(eval_env, tetris_policy, f'./replay_{curr_time}.mp4')"
   ]
  }
 ],
 "metadata": {
  "kernelspec": {
   "display_name": "Python 3",
   "language": "python",
   "name": "python3"
  },
  "language_info": {
   "codemirror_mode": {
    "name": "ipython",
    "version": 3
   },
   "file_extension": ".py",
   "mimetype": "text/x-python",
   "name": "python",
   "nbconvert_exporter": "python",
   "pygments_lexer": "ipython3",
   "version": "3.10.12"
  }
 },
 "nbformat": 4,
 "nbformat_minor": 2
}
