{
 "cells": [
  {
   "cell_type": "code",
   "execution_count": 1,
   "metadata": {},
   "outputs": [],
   "source": [
    "import numpy as np\n",
    "\n",
    "from collections import deque\n",
    "\n",
    "import matplotlib.pyplot as plt\n",
    "%matplotlib inline\n",
    "\n",
    "# PyTorch\n",
    "import torch\n",
    "import torch.nn as nn\n",
    "import torch.nn.functional as F\n",
    "import torch.optim as optim\n",
    "from torch.distributions import Categorical\n",
    "\n",
    "# Gym\n",
    "import gym\n",
    "# import gym_pygame\n",
    "\n",
    "# Hugging Face Hub\n",
    "# from huggingface_hub import notebook_login # To log to our Hugging Face account to be able to upload models to the Hub.\n",
    "import imageio"
   ]
  },
  {
   "cell_type": "code",
   "execution_count": 2,
   "metadata": {},
   "outputs": [
    {
     "name": "stdout",
     "output_type": "stream",
     "text": [
      "Built Tetris v3.0\n",
      "Built Tetris v3.0\n"
     ]
    },
    {
     "name": "stderr",
     "output_type": "stream",
     "text": [
      "/home/ai/.local/lib/python3.10/site-packages/gym/utils/passive_env_checker.py:20: UserWarning: \u001b[33mWARN: It seems a Box observation space is an image but the `dtype` is not `np.uint8`, actual type: float32. If the Box observation space is not an image, we recommend flattening the observation to have only a 1D vector.\u001b[0m\n",
      "  logger.warn(\n",
      "/home/ai/.local/lib/python3.10/site-packages/gym/utils/passive_env_checker.py:25: UserWarning: \u001b[33mWARN: It seems a Box observation space is an image but the upper and lower bounds are not in [0, 255]. Generally, CNN policies assume observations are within that range, so you may encounter an issue if the observation values are not.\u001b[0m\n",
      "  logger.warn(\n"
     ]
    }
   ],
   "source": [
    "env_id = \"gym_tetris:tetris_rl\"\n",
    "env = gym.make(env_id, render_mode='rgb_array')\n",
    "eval_env = gym.make(env_id, render_mode='rgb_array')\n",
    "s_size = env.observation_space.shape\n",
    "a_size = env.action_space.n"
   ]
  },
  {
   "cell_type": "code",
   "execution_count": 3,
   "metadata": {},
   "outputs": [
    {
     "name": "stdout",
     "output_type": "stream",
     "text": [
      "cpu\n"
     ]
    }
   ],
   "source": [
    "device = torch.device(\"cuda:0\" if torch.cuda.is_available() else \"cpu\")\n",
    "print(device)"
   ]
  },
  {
   "cell_type": "code",
   "execution_count": 4,
   "metadata": {},
   "outputs": [
    {
     "name": "stdout",
     "output_type": "stream",
     "text": [
      "_____OBSERVATION SPACE_____ \n",
      "\n",
      "The State Space is:  (1, 29, 10)\n",
      "Sample observation [[[1.1853448e-01 1.1935332e+00 3.6651593e-01 1.0143149e+00 1.7234696e+00\n",
      "   1.1936885e+00 4.4079804e-01 5.3905350e-01 1.9289915e-01 1.6910653e+00]\n",
      "  [4.4803938e-01 4.1793266e-01 7.3148096e-01 1.9966519e+00 1.6043204e+00\n",
      "   1.4602240e+00 1.7899201e+00 1.0009949e+00 1.5783606e+00 6.6036403e-01]\n",
      "  [9.3107790e-01 1.2452197e+00 1.8072522e+00 4.5276421e-01 9.5189202e-01\n",
      "   7.1891922e-01 1.9105222e+00 1.5596386e+00 2.5913483e-01 6.9949669e-01]\n",
      "  [8.2426214e-01 7.8839469e-01 4.0960798e-01 1.0712421e+00 1.1887653e+00\n",
      "   5.1954091e-01 1.4339533e+00 5.2838731e-01 1.4825202e+00 9.1926225e-02]\n",
      "  [2.2095633e-01 1.3298913e+00 1.0314487e+00 4.3830987e-02 2.1234204e-01\n",
      "   1.4876292e+00 3.3185861e-01 1.0371760e+00 6.5475899e-01 8.6550629e-01]\n",
      "  [6.9062668e-01 1.3682244e+00 1.4129093e-01 6.6697639e-01 1.9663993e+00\n",
      "   6.3536990e-01 5.4576176e-01 1.8976828e+00 1.6995713e+00 1.8739257e+00]\n",
      "  [1.8808479e+00 6.1152142e-01 1.7414519e-01 2.7397719e-01 3.5652947e-01\n",
      "   6.0570967e-01 1.9900229e+00 1.9884025e+00 1.2679285e+00 1.5863280e+00]\n",
      "  [1.4197284e+00 1.4706378e+00 5.7407463e-01 2.8139073e-01 9.5835263e-01\n",
      "   9.4202846e-01 1.4237230e+00 8.3802891e-01 1.6351377e+00 1.1272504e+00]\n",
      "  [1.6113137e+00 5.3775269e-01 1.2114587e+00 1.7507105e+00 1.5121443e+00\n",
      "   9.8557347e-01 1.7729244e-01 1.8198375e+00 1.1984317e+00 4.6364322e-01]\n",
      "  [8.8661289e-01 1.4494989e+00 1.5052766e+00 4.2337590e-01 1.0543416e+00\n",
      "   1.8087555e+00 4.6847391e-01 6.9147408e-01 3.7817335e-01 1.9561536e+00]\n",
      "  [1.0645566e+00 5.2145320e-01 3.1784347e-01 9.0282482e-01 9.8937619e-01\n",
      "   9.0526575e-01 1.6298569e+00 1.8423009e+00 1.9641224e+00 1.8392088e-01]\n",
      "  [1.1040673e+00 1.7861679e+00 3.8401652e-02 1.9995152e+00 7.1809161e-01\n",
      "   2.3283201e-01 6.5933788e-01 6.0418844e-01 1.8370260e+00 1.5727992e+00]\n",
      "  [1.7171069e+00 3.1176960e-01 1.2619148e+00 7.2324508e-01 1.8522567e+00\n",
      "   1.0508714e+00 1.3116515e+00 6.8093812e-01 6.9391418e-01 7.7876568e-01]\n",
      "  [1.4289308e-01 1.1297221e+00 3.3576649e-01 2.7489737e-01 3.9675710e-01\n",
      "   9.2602783e-01 8.4280795e-01 1.0105616e+00 3.2989800e-01 1.5760066e-01]\n",
      "  [1.1433471e+00 8.7224525e-01 7.7812701e-01 1.6545086e+00 4.9701476e-01\n",
      "   1.3873905e+00 1.8356025e+00 1.3752772e-01 3.3944073e-01 1.5181923e-01]\n",
      "  [7.9354636e-02 1.6437895e+00 5.7346773e-01 1.8916465e+00 6.5740359e-01\n",
      "   1.2413398e+00 1.8356487e+00 1.5672157e+00 1.8636109e+00 1.8633041e+00]\n",
      "  [1.9671593e+00 1.8549762e+00 4.9571359e-01 1.9650631e+00 3.3138305e-01\n",
      "   5.6581497e-01 1.7975485e+00 1.6928400e+00 5.0847337e-02 2.9403165e-01]\n",
      "  [3.4247670e-01 6.2221503e-01 9.3432349e-01 1.1643374e+00 2.4494511e-01\n",
      "   1.7266845e+00 1.6638564e+00 1.8674256e+00 1.2863722e+00 1.8874760e+00]\n",
      "  [6.1828601e-01 1.4011484e+00 7.6729202e-01 1.1949283e+00 1.4043975e+00\n",
      "   1.9738902e+00 2.6756123e-01 9.7096401e-01 1.2607703e+00 1.3130187e+00]\n",
      "  [1.9615234e+00 9.1524440e-01 6.0689533e-01 2.7061376e-01 1.0873582e-01\n",
      "   1.1933188e+00 4.4459540e-01 1.6142800e+00 1.2247745e+00 2.1133997e-01]\n",
      "  [1.5717165e+00 1.6340442e+00 1.1684194e+00 1.1340042e+00 2.8004813e-01\n",
      "   3.6824498e-01 1.6354828e+00 7.7666688e-01 1.8395152e+00 5.7153505e-01]\n",
      "  [2.3176856e-01 1.9338657e+00 1.5540086e+00 1.9845157e+00 1.4143888e+00\n",
      "   8.7395084e-01 1.9020659e-01 1.0376431e+00 1.1881709e+00 1.5637751e+00]\n",
      "  [1.1265829e-01 1.9169854e+00 1.1493887e+00 5.1305538e-01 1.9031380e+00\n",
      "   1.4986901e+00 6.7109072e-01 1.1390326e+00 7.2960383e-01 8.4676039e-01]\n",
      "  [2.7221474e-01 4.4647473e-01 1.8190589e+00 9.6749622e-01 1.2025049e+00\n",
      "   1.4093781e+00 1.6655982e+00 1.1097476e+00 1.5807900e+00 4.6806619e-01]\n",
      "  [1.5909290e+00 1.4086149e+00 1.4951440e+00 1.2059680e+00 8.0811423e-01\n",
      "   1.7540497e+00 1.2771801e+00 5.4008138e-01 9.3186349e-01 1.9639554e+00]\n",
      "  [1.8648647e+00 1.2965769e+00 1.5594260e+00 1.9118094e+00 1.7582601e+00\n",
      "   1.7421305e+00 1.7838876e+00 9.3800449e-01 1.7541127e-03 8.2314277e-01]\n",
      "  [1.8119823e+00 1.7518051e+00 6.9823617e-01 7.1520525e-01 7.4800491e-02\n",
      "   1.6378192e+00 1.4591894e+00 1.8359023e+00 5.0040287e-01 1.3197823e+00]\n",
      "  [1.0182778e+00 1.0882303e+00 1.2211075e+00 1.6235304e+00 1.0560998e+00\n",
      "   1.6533422e+00 1.7370238e+00 8.3255291e-01 1.5454412e+00 7.4021333e-01]\n",
      "  [1.5310149e+00 1.4018755e+00 1.2835509e+00 9.8108083e-01 1.5564817e+00\n",
      "   1.7652230e-02 1.6691818e+00 7.1658945e-01 1.7222590e+00 2.5037101e-01]]]\n",
      "\n",
      " _____ACTION SPACE_____ \n",
      "\n",
      "The Action Space is:  7\n",
      "Action Space Sample 6\n",
      "(1, 29, 10)\n"
     ]
    }
   ],
   "source": [
    "print(\"_____OBSERVATION SPACE_____ \\n\")\n",
    "print(\"The State Space is: \", s_size)\n",
    "print(\"Sample observation\", env.observation_space.sample()) # Get a random observation\n",
    "\n",
    "print(\"\\n _____ACTION SPACE_____ \\n\")\n",
    "print(\"The Action Space is: \", a_size)\n",
    "print(\"Action Space Sample\", env.action_space.sample()) # Take a random action\n",
    "\n",
    "print(env.observation_space.shape)"
   ]
  },
  {
   "cell_type": "code",
   "execution_count": 5,
   "metadata": {},
   "outputs": [],
   "source": [
    "class Policy(nn.Module):\n",
    "    def __init__(self, s_size, a_size, h_size, h2_size):\n",
    "        super(Policy, self).__init__()\n",
    "\n",
    "        # Convolutional Network\n",
    "        # self.conv = nn.Sequential(nn.Conv2d(s_size[0], h_size, 4), nn.ReLU(),\n",
    "        #     nn.Conv2d(h_size, h_size, kernel_size=3, stride=1),nn.ReLU())\n",
    "        # # print(self.conv(torch.zeros(1,*s_size,4)).size())\n",
    "        # self.fc = nn.Sequential(\n",
    "        #     nn.Linear(int(np.prod(self.conv(torch.zeros(1,*s_size)).size())), h2_size),\n",
    "        #     nn.ReLU(),\n",
    "        #     nn.Linear(h2_size, a_size)\n",
    "        # )\n",
    "\n",
    "        # Linear Network\n",
    "        self.fc1 = nn.Linear(np.prod(s_size), h_size)\n",
    "        self.fc2 = nn.Linear(h_size, h_size)\n",
    "        self.fc3 = nn.Linear(h_size, a_size)\n",
    "\n",
    "        \n",
    "\n",
    "    def forward(self, x):\n",
    "        # Convlutional Network\n",
    "        # x = self.conv(x).view(x.size()[0], -1)\n",
    "        # x = self.fc(x)\n",
    "\n",
    "        # Linear Network\n",
    "        # x = np.reshape(x,(1,-1))\n",
    "        x = np.reshape(x.swapaxes(1,2),(1,-1))\n",
    "        x = torch.relu(self.fc1(x))\n",
    "        x = torch.relu(self.fc2(x))\n",
    "        x = self.fc3(x)\n",
    "\n",
    "        # print(np.shape(x))\n",
    "        # We output the softmax\n",
    "        return F.softmax(x, dim=1)\n",
    "\n",
    "    def act(self, state):\n",
    "        state = torch.from_numpy(state).float().unsqueeze(0).to(device)\n",
    "        probs = self.forward(state).cpu()\n",
    "        m = Categorical(probs)\n",
    "        action = m.sample()\n",
    "        return action.item(), m.log_prob(action)"
   ]
  },
  {
   "cell_type": "code",
   "execution_count": 6,
   "metadata": {},
   "outputs": [],
   "source": [
    "def reinforce(policy, optimizer, n_training_episodes, max_t, gamma, print_every):\n",
    "    # best_run = []\n",
    "    # best_score = 0\n",
    "    # Help us to calculate the score during the training\n",
    "    scores_deque = deque(maxlen=100)\n",
    "    scores = []\n",
    "    # Line 3 of pseudocode\n",
    "    for i_episode in range(1, n_training_episodes+1):\n",
    "        saved_log_probs = []\n",
    "        rewards = []\n",
    "        state = env.reset()\n",
    "        # img = env.render()\n",
    "        # Line 4 of pseudocode\n",
    "        # images = []\n",
    "        for t in range(max_t):\n",
    "            action, log_prob = policy.act(state) # Code Here: get the action\n",
    "            saved_log_probs.append(log_prob)\n",
    "            state, reward, done, _ = env.step(action)\n",
    "            # img = env.render()\n",
    "            # images.append(img)\n",
    "            rewards.append(reward)\n",
    "            if done:\n",
    "                break\n",
    "        reward_total = sum(rewards)\n",
    "        # if reward_total > best_score:\n",
    "        #     best_score = reward_total\n",
    "        #     best_run = images\n",
    "        scores_deque.append(reward_total)\n",
    "        scores.append(reward_total)\n",
    "\n",
    "        # Line 6 of pseudocode: calculate the return\n",
    "        returns = deque(maxlen=max_t)\n",
    "        n_steps = len(rewards)\n",
    "\n",
    "        # Compute the discounted returns at each timestep,\n",
    "        # as the sum of the gamma-discounted return at time t (G_t) + the reward at time t\n",
    "\n",
    "        ## We compute this starting from the last timestep to the first, to avoid redundant computations\n",
    "\n",
    "        ## appendleft() function of queues appends to the position 0\n",
    "        ## We use deque instead of lists to reduce the time complexity\n",
    "\n",
    "        for t in range(n_steps)[::-1]:\n",
    "            disc_return_t = (returns[0] if len(returns)>0 else 0)\n",
    "            returns.appendleft(gamma*disc_return_t + rewards[t]) # Code Here: complete here\n",
    "\n",
    "        ## standardization for training stability\n",
    "        eps = np.finfo(np.float32).eps.item()\n",
    "\n",
    "        ## eps is added to the standard deviation of the returns to avoid numerical instabilities\n",
    "        returns = torch.tensor(returns)\n",
    "        returns = (returns - returns.mean()) / (returns.std() + eps)\n",
    "\n",
    "        # Line 7:\n",
    "        policy_loss = []\n",
    "        for log_prob, disc_return in zip(saved_log_probs, returns):\n",
    "            policy_loss.append(-log_prob * disc_return)\n",
    "        policy_loss = torch.cat(policy_loss).sum()\n",
    "\n",
    "        # Line 8: PyTorch prefers gradient descent\n",
    "        optimizer.zero_grad()\n",
    "        policy_loss.backward()\n",
    "        optimizer.step()\n",
    "\n",
    "        if i_episode % print_every == 0:\n",
    "            print('Episode {}\\tAverage Score: {:.2f}'.format(i_episode, np.mean(scores_deque)))\n",
    "    \n",
    "    # imageio.mimsave('./best_training_run.mp4', [np.array(img) for i, img in enumerate(images)], fps=30)\n",
    "    return scores"
   ]
  },
  {
   "cell_type": "code",
   "execution_count": 15,
   "metadata": {},
   "outputs": [],
   "source": [
    "hyperparameters = {\n",
    "    \"h_size\": 64,\n",
    "    \"h2_size\": 512,\n",
    "    \"n_training_episodes\": 20000,\n",
    "    \"n_evaluation_episodes\": 10,\n",
    "    \"max_t\": 1000,\n",
    "    \"gamma\": 0.99,\n",
    "    \"lr\": 1e-4,\n",
    "    \"env_id\": env_id,\n",
    "    \"state_space\": s_size,\n",
    "    \"action_space\": a_size,\n",
    "}"
   ]
  },
  {
   "cell_type": "code",
   "execution_count": 8,
   "metadata": {},
   "outputs": [],
   "source": [
    "# Create policy and place it to the device\n",
    "torch.manual_seed(1234) # Don't change this\n",
    "tetris_policy = Policy(hyperparameters[\"state_space\"], hyperparameters[\"action_space\"], hyperparameters[\"h_size\"], hyperparameters[\"h2_size\"]).to(device)\n",
    "tetris_optimizer = optim.Adam(tetris_policy.parameters(), lr=hyperparameters[\"lr\"])"
   ]
  },
  {
   "cell_type": "code",
   "execution_count": 13,
   "metadata": {},
   "outputs": [
    {
     "data": {
      "text/plain": [
       "<All keys matched successfully>"
      ]
     },
     "execution_count": 13,
     "metadata": {},
     "output_type": "execute_result"
    }
   ],
   "source": [
    "# Loading existing policy\n",
    "state = torch.load('./training_state_final_flipped.data')\n",
    "tetris_optimizer.load_state_dict(state['optimizer'])\n",
    "tetris_policy.load_state_dict(state['model'])"
   ]
  },
  {
   "cell_type": "code",
   "execution_count": 9,
   "metadata": {},
   "outputs": [],
   "source": [
    "first = True"
   ]
  },
  {
   "cell_type": "code",
   "execution_count": 16,
   "metadata": {},
   "outputs": [
    {
     "name": "stdout",
     "output_type": "stream",
     "text": [
      "0\n",
      "Episode 1000\tAverage Score: 1.48\n",
      "Episode 2000\tAverage Score: 1.37\n",
      "Episode 3000\tAverage Score: 1.47\n",
      "Episode 4000\tAverage Score: 1.47\n",
      "Episode 5000\tAverage Score: 1.52\n",
      "Episode 6000\tAverage Score: 1.40\n",
      "Episode 7000\tAverage Score: 1.52\n",
      "Episode 8000\tAverage Score: 1.30\n",
      "Episode 9000\tAverage Score: 1.61\n",
      "Episode 10000\tAverage Score: 1.56\n",
      "Episode 11000\tAverage Score: 1.56\n",
      "Episode 12000\tAverage Score: 1.58\n",
      "Episode 13000\tAverage Score: 0.24\n",
      "Episode 14000\tAverage Score: 0.21\n",
      "Episode 15000\tAverage Score: 0.19\n",
      "Episode 16000\tAverage Score: 0.30\n",
      "Episode 17000\tAverage Score: 0.26\n",
      "Episode 18000\tAverage Score: 0.18\n",
      "Episode 19000\tAverage Score: 0.27\n",
      "Episode 20000\tAverage Score: 0.15\n"
     ]
    }
   ],
   "source": [
    "if first:\n",
    "    scores = []\n",
    "    first = False\n",
    "print(len(scores))\n",
    "scores.extend(reinforce(tetris_policy,\n",
    "                   tetris_optimizer,\n",
    "                   hyperparameters[\"n_training_episodes\"],\n",
    "                   hyperparameters[\"max_t\"],\n",
    "                   hyperparameters[\"gamma\"],\n",
    "                   1000))"
   ]
  },
  {
   "cell_type": "code",
   "execution_count": 18,
   "metadata": {},
   "outputs": [
    {
     "data": {
      "text/plain": [
       "[<matplotlib.lines.Line2D at 0x7ff3d4694940>]"
      ]
     },
     "execution_count": 18,
     "metadata": {},
     "output_type": "execute_result"
    },
    {
     "data": {
      "image/png": "[encoded data removed]",
      "text/plain": [
       "<Figure size 600x600 with 1 Axes>"
      ]
     },
     "metadata": {},
     "output_type": "display_data"
    }
   ],
   "source": [
    "figure, axes = plt.subplots(1, figsize=(6, 6))\n",
    "\n",
    "### YOUR CODE STARTS HERE ###\n",
    "    \n",
    "axes.set_title('Average Score Over Time')\n",
    "axes.set_xlabel('Training Episode')\n",
    "axes.set_ylabel('Average Score')\n",
    "axes.plot(range(100,len(scores)+1,100), [np.mean(scores[100*i:100*i+100]) for i in range(len(scores)//100)], color = 'green')"
   ]
  },
  {
   "cell_type": "code",
   "execution_count": 23,
   "metadata": {},
   "outputs": [],
   "source": [
    "file = open('./scores_flipped_100k.txt','w')\n",
    "for item in scores:\n",
    "\tfile.write(f'{item} ')\n",
    "file.write('\\n')\n",
    "file.flush()\n",
    "file.close()"
   ]
  },
  {
   "cell_type": "code",
   "execution_count": 19,
   "metadata": {},
   "outputs": [],
   "source": [
    "# Saving current policy for continued training\n",
    "from time import gmtime, strftime\n",
    "curr_time = strftime(\"%Y.%m.%d-%H.%M.%S\", gmtime())\n",
    "training_state = {'model':tetris_policy.state_dict(), 'optimizer':tetris_optimizer.state_dict()}\n",
    "torch.save(training_state, f'./training_state_flipped_{curr_time}.data')"
   ]
  },
  {
   "cell_type": "code",
   "execution_count": 21,
   "metadata": {},
   "outputs": [],
   "source": [
    "def record_video(env, policy, out_directory, fps=30):\n",
    "  \"\"\"\n",
    "  Generate a replay video of the agent\n",
    "  :param env\n",
    "  :param Qtable: Qtable of our agent\n",
    "  :param out_directory\n",
    "  :param fps: how many frame per seconds (with taxi-v3 and frozenlake-v1 we use 1)\n",
    "  \"\"\"\n",
    "  images = []\n",
    "  done = False\n",
    "  state = env.reset()\n",
    "  img = env.render()\n",
    "  images.append(img)\n",
    "  for frame in range(1000):\n",
    "    if done:\n",
    "      break\n",
    "    # Take the action (index) that have the maximum expected future reward given that state\n",
    "    action, _ = policy.act(state)\n",
    "    state, reward, done, info = env.step(action) # We directly put next_state = state for recording logic\n",
    "    img = env.render()\n",
    "    images.append(img)\n",
    "  imageio.mimsave(out_directory, [np.array(img) for i, img in enumerate(images)], fps=fps)"
   ]
  },
  {
   "cell_type": "code",
   "execution_count": 22,
   "metadata": {},
   "outputs": [
    {
     "name": "stderr",
     "output_type": "stream",
     "text": [
      "/home/ai/.local/lib/python3.10/site-packages/gym/utils/passive_env_checker.py:174: UserWarning: \u001b[33mWARN: Future gym versions will require that `Env.reset` can be passed a `seed` instead of using `Env.seed` for resetting the environment random number generator.\u001b[0m\n",
      "  logger.warn(\n",
      "/home/ai/.local/lib/python3.10/site-packages/gym/utils/passive_env_checker.py:187: UserWarning: \u001b[33mWARN: Future gym versions will require that `Env.reset` can be passed `options` to allow the environment initialisation to be passed additional information.\u001b[0m\n",
      "  logger.warn(\n",
      "/home/ai/.local/lib/python3.10/site-packages/gym/utils/passive_env_checker.py:195: UserWarning: \u001b[33mWARN: The result returned by `env.reset()` was not a tuple of the form `(obs, info)`, where `obs` is a observation and `info` is a dictionary containing additional information. Actual type: `<class 'numpy.ndarray'>`\u001b[0m\n",
      "  logger.warn(\n",
      "/home/ai/.local/lib/python3.10/site-packages/gym/utils/passive_env_checker.py:219: DeprecationWarning: \u001b[33mWARN: Core environment is written in old step API which returns one bool instead of two. It is recommended to rewrite the environment with new step API. \u001b[0m\n",
      "  logger.deprecation(\n",
      "/home/ai/.local/lib/python3.10/site-packages/gym/utils/passive_env_checker.py:225: DeprecationWarning: `np.bool8` is a deprecated alias for `np.bool_`.  (Deprecated NumPy 1.24)\n",
      "  if not isinstance(done, (bool, np.bool8)):\n",
      "/home/ai/.local/lib/python3.10/site-packages/gym/utils/passive_env_checker.py:165: UserWarning: \u001b[33mWARN: The obs returned by the `step()` method is not within the observation space.\u001b[0m\n",
      "  logger.warn(f\"{pre} is not within the observation space.\")\n",
      "IMAGEIO FFMPEG_WRITER WARNING: input image is not divisible by macro_block_size=16, resizing from (1200, 660) to (1200, 672) to ensure video compatibility with most codecs and players. To prevent resizing, make your input image divisible by the macro_block_size or set the macro_block_size to 1 (risking incompatibility).\n"
     ]
    }
   ],
   "source": [
    "from time import gmtime, strftime\n",
    "curr_time = strftime(\"%Y.%m.%d-%H.%M.%S\", gmtime())\n",
    "record_video(eval_env, tetris_policy, f'./replay_flipped_{curr_time}.mp4')"
   ]
  }
 ],
 "metadata": {
  "kernelspec": {
   "display_name": "Python 3",
   "language": "python",
   "name": "python3"
  },
  "language_info": {
   "codemirror_mode": {
    "name": "ipython",
    "version": 3
   },
   "file_extension": ".py",
   "mimetype": "text/x-python",
   "name": "python",
   "nbconvert_exporter": "python",
   "pygments_lexer": "ipython3",
   "version": "3.10.12"
  }
 },
 "nbformat": 4,
 "nbformat_minor": 2
}
